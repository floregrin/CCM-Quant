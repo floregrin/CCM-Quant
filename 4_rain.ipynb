{
 "cells": [
  {
   "cell_type": "markdown",
   "metadata": {},
   "source": [
    "# Q3. You’re about to board a train from London to Newcastle. You want to know if it’s raining, so you call your three friends who live in Newcastle. Each friend has a 2/3 chance of telling you the truth and a 1/3 chance of telling you a lie. All three friends tell you that, yes, it’s raining in Newcastle. What is the probability that it is, in fact, raining in Newcastle?"
   ]
  },
  {
   "cell_type": "markdown",
   "metadata": {},
   "source": [
    "- I assume that their responses are independent\n",
    "\n",
    "Denote $p$ the probability that a friend tells a Truth $T$, so that\n",
    "\n",
    "$p=\\frac{2}{3}$ \n",
    "\n",
    "and so the probability that a friend tells a lie $L$ is \n",
    "\n",
    "$(1-p)$\n",
    "\n",
    "So, the possible outcomes are\n",
    "\n",
    "- $$TTT \\Bigg(\\text{with probability } 1*p^3 = \\frac{8}{27}\\Bigg)$$\n",
    "\n",
    "- $$TTL \\Bigg(\\text{with probability } 3*p^2*(1-p) = \\frac{12}{27}\\Bigg)$$\n",
    "\n",
    "- $$LLT \\Bigg(\\text{with probability } 3*p*(1-p)^2 = \\frac{6}{27}\\Bigg)$$\n",
    "\n",
    "- $$LLL \\Bigg(\\text{with probability } 1 * (1-p)^3 = \\frac{1}{27}\\Bigg)$$\n",
    "\n",
    "'All the three friends mention that it is raining in Newcastle'\n",
    "\n",
    "So, it could be\n",
    "\n",
    "T = 'it is raining in Newcastle'\n",
    "\n",
    "then the first outcome would give us the probability, because if it is raining and any of the friends lies, then at least one of them should have say that it isn't raining in Newcastle.\n",
    "\n",
    "It could also be the case that it is not raining in Newcastle and that all the friends are lying, but that is not the question.\n",
    "\n",
    "Given that the interest is to know the probability that it is raining in Newcastle, the answer is \n",
    "\n",
    "$$P(\\text{it is raining in Newcastle}) = \\frac{8}{27}$$"
   ]
  },
  {
   "cell_type": "markdown",
   "metadata": {},
   "source": []
  }
 ],
 "metadata": {
  "language_info": {
   "name": "python"
  }
 },
 "nbformat": 4,
 "nbformat_minor": 2
}
