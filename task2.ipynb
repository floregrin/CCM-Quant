{
 "cells": [
  {
   "cell_type": "markdown",
   "metadata": {},
   "source": [
    "# *There are 10 boxes, only one with a price, and the 9 left are empty. I choose one box, then 1 of the 9 boxes left has the price, but 2 boxes are left, the one I chose and another one. One of these two boxes has the price, and I can choose to keep the one I chose originally or change my choice to the other one. What is the probability to choose the correct one?*\n",
    "\n",
    "Approach:\n",
    "\n",
    "1. Perform N simulations\n",
    "2. Test 3 different cases:\n",
    "    1. I always keep my original choice\n",
    "    2. I always change my original choice\n",
    "    3. I randomly alternate btw my original choice and the other one\n"
   ]
  },
  {
   "cell_type": "code",
   "execution_count": 25,
   "metadata": {},
   "outputs": [],
   "source": [
    "import numpy as np"
   ]
  },
  {
   "cell_type": "markdown",
   "metadata": {},
   "source": [
    "### 1. I always keep my original choice"
   ]
  },
  {
   "cell_type": "markdown",
   "metadata": {},
   "source": [
    "Let's run the simulation once, then generalize"
   ]
  },
  {
   "cell_type": "code",
   "execution_count": 26,
   "metadata": {},
   "outputs": [
    {
     "name": "stdout",
     "output_type": "stream",
     "text": [
      "my choice:  4\n",
      "box:  9\n",
      "w:  0\n"
     ]
    }
   ],
   "source": [
    "nboxes = 10 # amount of boxes\n",
    "\n",
    "box = np.random.randint(nboxes) # one of the boxes, randomly chosen, has 'the price in it' \n",
    "\n",
    "myChoice = np.random.randint(nboxes) # I randomly choose one box\n",
    "w = 0 # variable to store how many times I chose the right box\n",
    "if myChoice==box:\n",
    "    w = 1 # I always keep my original choice\n",
    "\n",
    "print('my choice: ', myChoice)\n",
    "print('box: ', box)\n",
    "print('w: ', w)"
   ]
  },
  {
   "cell_type": "markdown",
   "metadata": {},
   "source": [
    "Now let's run it N times"
   ]
  },
  {
   "cell_type": "code",
   "execution_count": 27,
   "metadata": {},
   "outputs": [],
   "source": [
    "nboxes = 10 # amount of boxes\n",
    "N = int(1e4) # amount of simulations\n",
    "w = 0 # variable to store how many times I won the game\n",
    "for i in range(N):\n",
    "    \n",
    "    box = np.random.randint(nboxes) # randomly choose the box with the price    \n",
    "    myChoice = np.random.randint(nboxes) # I randomly choose one box    \n",
    "    \n",
    "    if myChoice==box:\n",
    "        w += 1 # I always keep my original choice"
   ]
  },
  {
   "cell_type": "markdown",
   "metadata": {},
   "source": [
    "The probability of winning the game with this algorithm is the probability of directly finding the right box in boxes, which is 1/nboxes = 1/10. "
   ]
  },
  {
   "cell_type": "code",
   "execution_count": 28,
   "metadata": {},
   "outputs": [
    {
     "name": "stdout",
     "output_type": "stream",
     "text": [
      "The probability of winning the game if I always keep my original choice is:  0.0962\n"
     ]
    }
   ],
   "source": [
    "P = w/N\n",
    "print('The probability of winning the game if I always keep my original choice is: ', P)"
   ]
  },
  {
   "cell_type": "markdown",
   "metadata": {},
   "source": [
    "### 2. I always change my original choice"
   ]
  },
  {
   "cell_type": "markdown",
   "metadata": {},
   "source": [
    "Let's run the simulation once, then generalize"
   ]
  },
  {
   "cell_type": "code",
   "execution_count": 29,
   "metadata": {},
   "outputs": [
    {
     "name": "stdout",
     "output_type": "stream",
     "text": [
      "my choice:  2\n",
      "box:  8\n",
      "w:  1\n"
     ]
    }
   ],
   "source": [
    "nboxes = 10 # amount of boxes\n",
    "\n",
    "box = np.random.randint(nboxes)\n",
    "\n",
    "myChoice = np.random.randint(nboxes)\n",
    "w = 0\n",
    "if myChoice!=box:\n",
    "    w = 1 # I always change my original choice\n",
    "\n",
    "print('my choice: ', myChoice)\n",
    "print('box: ', box)\n",
    "print('w: ', w)"
   ]
  },
  {
   "cell_type": "markdown",
   "metadata": {},
   "source": [
    "Now let's run it N times"
   ]
  },
  {
   "cell_type": "code",
   "execution_count": 30,
   "metadata": {},
   "outputs": [],
   "source": [
    "nboxes = 10 # amount of boxes\n",
    "N = int(1e4)\n",
    "w = 0\n",
    "for i in range(N):\n",
    "\n",
    "    box = np.random.randint(nboxes)\n",
    "\n",
    "    myChoice = np.random.randint(nboxes)\n",
    "    \n",
    "    if myChoice!=box:\n",
    "        w += 1 # I always change my original choice"
   ]
  },
  {
   "cell_type": "markdown",
   "metadata": {},
   "source": [
    "The probability of winning the game with this algorithm is the probability of directly finding any of the boxes without the price, which is 9/nboxes = 9/10. "
   ]
  },
  {
   "cell_type": "code",
   "execution_count": 31,
   "metadata": {},
   "outputs": [
    {
     "name": "stdout",
     "output_type": "stream",
     "text": [
      "The probability of winning the game if I always change my original choice is:  0.9031\n"
     ]
    }
   ],
   "source": [
    "P = w/N\n",
    "print('The probability of winning the game if I always change my original choice is: ', P)"
   ]
  },
  {
   "cell_type": "markdown",
   "metadata": {},
   "source": [
    "### 3. I randomly alternate btw my original choice and the other one"
   ]
  },
  {
   "cell_type": "markdown",
   "metadata": {},
   "source": [
    "Let's run the simulation once, then generalize"
   ]
  },
  {
   "cell_type": "code",
   "execution_count": 32,
   "metadata": {},
   "outputs": [
    {
     "name": "stdout",
     "output_type": "stream",
     "text": [
      "my choice1:  9\n",
      "my choice2:  1\n",
      "box:  4\n",
      "w:  1\n"
     ]
    }
   ],
   "source": [
    "nboxes = 10 # amountof boxes\n",
    "box = np.random.randint(nboxes)\n",
    "myChoice1 = np.random.randint(nboxes) # my first choice\n",
    "w = 0\n",
    "myChoice2 = np.random.randint(0,2) # my second choice, random btw my original (0) and the other one (1)\n",
    "if myChoice2==0: # original\n",
    "    if myChoice1==box:\n",
    "        w+=1\n",
    "else: # other\n",
    "    if myChoice1!=box:\n",
    "        w+=1\n",
    "\n",
    "print('my choice1: ', myChoice1)\n",
    "print('my choice2: ', myChoice2)\n",
    "print('box: ', box)\n",
    "print('w: ', w)\n"
   ]
  },
  {
   "cell_type": "markdown",
   "metadata": {},
   "source": [
    "Now let's run it N times"
   ]
  },
  {
   "cell_type": "code",
   "execution_count": 33,
   "metadata": {},
   "outputs": [],
   "source": [
    "nboxes = 10 # amount of boxes\n",
    "N = int(1e4)\n",
    "w = 0\n",
    "for i in range(N):\n",
    "    \n",
    "    box = np.random.randint(nboxes)\n",
    "    myChoice1 = np.random.randint(nboxes)\n",
    "    myChoice2 = np.random.randint(0,2)\n",
    "    if myChoice2==0: # original\n",
    "        if myChoice1==box:\n",
    "            w+=1\n",
    "    else: # other\n",
    "        if myChoice1!=box:\n",
    "            w+=1"
   ]
  },
  {
   "cell_type": "code",
   "execution_count": 34,
   "metadata": {},
   "outputs": [
    {
     "name": "stdout",
     "output_type": "stream",
     "text": [
      "The probability of winning the game if I always randomly alternate btw my original and the other box is:  0.4932\n"
     ]
    }
   ],
   "source": [
    "P = w/N\n",
    "print('The probability of winning the game if I always randomly alternate btw my original and the other box is: ', P)"
   ]
  },
  {
   "cell_type": "markdown",
   "metadata": {},
   "source": [
    "In this last case, the probability is to find the box in a set of two boxes, one with the price and another without it, which is 1/2."
   ]
  },
  {
   "cell_type": "code",
   "execution_count": null,
   "metadata": {},
   "outputs": [],
   "source": []
  }
 ],
 "metadata": {
  "kernelspec": {
   "display_name": "py310",
   "language": "python",
   "name": "python3"
  },
  "language_info": {
   "codemirror_mode": {
    "name": "ipython",
    "version": 3
   },
   "file_extension": ".py",
   "mimetype": "text/x-python",
   "name": "python",
   "nbconvert_exporter": "python",
   "pygments_lexer": "ipython3",
   "version": "3.10.13"
  }
 },
 "nbformat": 4,
 "nbformat_minor": 2
}
